{
 "cells": [
  {
   "cell_type": "code",
   "execution_count": 80,
   "id": "8efb6b44-b214-4fe3-8450-8e5ca90d1444",
   "metadata": {},
   "outputs": [],
   "source": [
    "using LinearAlgebra, Combinatorics"
   ]
  },
  {
   "cell_type": "code",
   "execution_count": 275,
   "id": "f6d825b2-ba52-4077-98f5-f1457617ca33",
   "metadata": {},
   "outputs": [
    {
     "name": "stderr",
     "output_type": "stream",
     "text": [
      "WARNING: redefinition of constant N. This may fail, cause incorrect answers, or produce other errors.\n"
     ]
    },
    {
     "data": {
      "text/plain": [
       "4"
      ]
     },
     "execution_count": 275,
     "metadata": {},
     "output_type": "execute_result"
    }
   ],
   "source": [
    "N = 4"
   ]
  },
  {
   "cell_type": "code",
   "execution_count": 276,
   "id": "ce65888e-c210-4da9-bdd1-f1ff4e88eb76",
   "metadata": {},
   "outputs": [
    {
     "data": {
      "text/plain": [
       "queenMoves (generic function with 1 method)"
      ]
     },
     "execution_count": 276,
     "metadata": {},
     "output_type": "execute_result"
    }
   ],
   "source": [
    "function queenMoves(i,j)\n",
    "    A = zeros(N,N)\n",
    "    A[i,:] .= -1\n",
    "    A[:,j] .= -1\n",
    "    A[diagind(A,j-i)] .=-1\n",
    "    A = reverse(A,dims = 2)\n",
    "    jrev = N - j +1\n",
    "    A[diagind(A,jrev-i)] .=-1\n",
    "    A= reverse(A,dims = 2)\n",
    "    A[i,j] = 1\n",
    "    return A\n",
    "end"
   ]
  },
  {
   "cell_type": "code",
   "execution_count": 277,
   "id": "cd2a5294-92de-45bd-b692-1a955ac14461",
   "metadata": {},
   "outputs": [
    {
     "data": {
      "text/plain": [
       "partitionBoard (generic function with 1 method)"
      ]
     },
     "execution_count": 277,
     "metadata": {},
     "output_type": "execute_result"
    }
   ],
   "source": [
    "function partitionBoard()\n",
    "    A = [[i,j] for j in 1:N,i in 1:N]\n",
    "    combinations(A,N)\n",
    "\n",
    "end"
   ]
  },
  {
   "cell_type": "code",
   "execution_count": 278,
   "id": "dcd77093-79ca-485f-8a63-f8f355aa29d3",
   "metadata": {},
   "outputs": [
    {
     "data": {
      "text/plain": [
       "convertToString (generic function with 1 method)"
      ]
     },
     "execution_count": 278,
     "metadata": {},
     "output_type": "execute_result"
    }
   ],
   "source": [
    "function convertToString(A)\n",
    "    s = \"(\"\n",
    "    (q1,q2) = Tuple(findfirst((x) -> x == 1,A))\n",
    "    s *= \"x_$q1$q2\"\n",
    "    idx = Tuple.(findall((x) -> x == -1,A))\n",
    "    for (i1,i2) in idx\n",
    "        s *= \" & !x_$i1$i2\"\n",
    "    end\n",
    "    s *= \")\"\n",
    "    return s\n",
    "end"
   ]
  },
  {
   "cell_type": "code",
   "execution_count": 279,
   "id": "733980a1-8200-4b87-bdca-32936aac57b1",
   "metadata": {},
   "outputs": [
    {
     "data": {
      "text/plain": [
       "generateLogic (generic function with 1 method)"
      ]
     },
     "execution_count": 279,
     "metadata": {},
     "output_type": "execute_result"
    }
   ],
   "source": [
    "function generateLogic()\n",
    "    s = \"\"\n",
    "    for x in partitionBoard()\n",
    "        s *= \"(\"\n",
    "        A = [queenMoves(y...) for y in x]\n",
    "        for a in A\n",
    "            s *= convertToString(a)\n",
    "            s*= \"&\"\n",
    "        end\n",
    "        s *= \") | \\n \"\n",
    "    end\n",
    "    re = r\"&(?=\\))\"\n",
    "    print(occursin(re,s))\n",
    "    return replace(s,re => \"\")\n",
    "end"
   ]
  },
  {
   "cell_type": "code",
   "execution_count": 280,
   "id": "b1727ddd-3c81-4b81-a886-5adea602ab61",
   "metadata": {},
   "outputs": [
    {
     "name": "stdout",
     "output_type": "stream",
     "text": [
      "true"
     ]
    },
    {
     "data": {
      "text/plain": [
       "615160"
      ]
     },
     "execution_count": 280,
     "metadata": {},
     "output_type": "execute_result"
    }
   ],
   "source": [
    "open(\"Schreibtisch/Programming/chess.txt\",\"w\") do io\n",
    "    write(io,generateLogic())\n",
    "end"
   ]
  },
  {
   "cell_type": "code",
   "execution_count": 257,
   "id": "4f2a1d2e-558d-4ff6-9463-14688792a580",
   "metadata": {},
   "outputs": [
    {
     "name": "stdout",
     "output_type": "stream",
     "text": [
      "true"
     ]
    },
    {
     "data": {
      "text/plain": [
       "\"((x_11 & !x_21 & !x_31 & !x_12 & !x_22 & !x_13 & !x_33)&(x_12 & !x_11 & !x_21 & !x_22 & !x_32 & !x_13 & !x_23)&(x_13 & !x_11 & !x_31 & !x_12 & !x_22 & !x_23 & !x_33)) | \\n ((x_11 & !x_21 & !x_31 & !x_12 & !x_22 & !x_13 & !x_33)&(x_12 & !x_11 & !x_21 & !x_22 & !x_32 & !x_\" ⋯ 14273 bytes ⋯ \"x_31 & !x_12 & !x_22 & !x_23 & !x_33)&(x_33 & !x_11 & !x_31 & !x_22 & !x_32 & !x_13 & !x_23)) | \\n ((x_31 & !x_11 & !x_21 & !x_22 & !x_32 & !x_13 & !x_33)&(x_32 & !x_21 & !x_31 & !x_12 & !x_22 & !x_23 & !x_33)&(x_33 & !x_11 & !x_31 & !x_22 & !x_32 & !x_13 & !x_23)) | \\n \""
      ]
     },
     "execution_count": 257,
     "metadata": {},
     "output_type": "execute_result"
    }
   ],
   "source": [
    "generateLogic()"
   ]
  },
  {
   "cell_type": "code",
   "execution_count": null,
   "id": "753105e3-0b91-486a-9bf7-46e1b6c82800",
   "metadata": {},
   "outputs": [],
   "source": []
  }
 ],
 "metadata": {
  "kernelspec": {
   "display_name": "Julia 1.8.0",
   "language": "julia",
   "name": "julia-1.8"
  },
  "language_info": {
   "file_extension": ".jl",
   "mimetype": "application/julia",
   "name": "julia",
   "version": "1.8.0"
  }
 },
 "nbformat": 4,
 "nbformat_minor": 5
}
